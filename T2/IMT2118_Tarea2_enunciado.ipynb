{
 "cells": [
  {
   "cell_type": "markdown",
   "metadata": {},
   "source": [
    "<h1><center>IMT2118 - Ciencia de Datos Geoespaciales</center></h1>\n",
    "<h2><center>Tarea 2: Monitoreo del Crecimiento Urbano Mediante Percepción Remota </center></h2>\n",
    "\n",
    "\n",
    "\n",
    "<div class=\"alert alert-block alert-info\">\n",
    "\n",
    "## Instrucciones generales.\n",
    "\n",
    "&#128467; **Fecha de entrega:** viernes 26 de abril de 2024, 23:59. <br>\n",
    "\n",
    "&#128236; **Entrega:** A través de Canvas, adjunte todos los archivos necesarios para ejecutar su código dentro de una única carpeta comprimida (.zip). Incluya el  Jupyter Notebook con el desarrollo (puede utilizar este mismo notebook), y las capas o archivos vectoriales que haya generado como parte de su análisis. El objetivo es que **el Notebook pueda correr completamente dentro de la carpeta entregada**. Si el archivo compromido supera el tamaño máximo permitido por Canvas, puede enviar un link de descarga. <br>\n",
    "    \n",
    "\n",
    "&#128013; La Tarea debe ser desarrollada en lenguaje de programación Python. En el caso de la plataforma GEE, también se acepta trabajar en Java.<br>\n",
    "\n",
    "&#11088; En el Notebook, incluya texto explicando los pasos u operaciones desarrolladas, no sólo el código. El objetivo es que el Notebook siga un hilo narrativo, sea claro y atractivo de leer. En [este link](https://github.com/brad-do/nb-miscellany/blob/master/things_to_do_in_markdown.ipynb) puede encontrar algunos tips útiles para usar celdas de anotaciones o Markdown. <br>\n",
    "\n",
    "\n",
    "&#128519; El trabajo es **invididual**, y debe seguir todos los lineamientos de integridad académica del curso. Recuerde referenciar apropiadamente todas las referencias, códigos y datos consultados para el desarrollo de su tarea.<br>\n",
    " \n",
    "&#128064; Lea cuidadosamente el enunciado.\n",
    "    \n",
    "&#10067;  Se sugiere hacer consultas y comentarios sobre la Tarea a traves del Foro del curso creado en Canvas. \n",
    "\n",
    "</div>\n",
    "\n",
    "#### Profesora: Paula Aguirre A, 2024-1."
   ]
  },
  {
   "cell_type": "markdown",
   "metadata": {},
   "source": [
    "## 1. Introducción.\n",
    "\n",
    "La velocidad a la cual crecen las ciudades, o *tasa de urbanización*, es un importante indicador de la sustentabilidad de pueblos y ciudades. Una urbanización rápida y desorganizada puede conducir a una saturación y sobrecarga de la infraestructura pública y servicios básicos como salud, educación y transporte, lo cual conlleva a su vez pobres resultados sociales, económicos y ambientales.\n",
    "\n",
    "El primer requisito para abordar los impactos de la urbanización acelerada es implementar un monitoreo regular de la extensión urbana. Los datasets globales de observación terrestre proveen un medio preciso y costo-efectivo para realizar esta tarea.\n"
   ]
  },
  {
   "cell_type": "markdown",
   "metadata": {},
   "source": [
    "## 2. Datos.\n",
    "\n",
    "Para este problema, deberá trabajar con el catálogo de datos de Google Earth Engine. Para el punto *3.9*, ud. deberá seleccionar y obtener datos vectoriales complementarios.\n",
    "\n",
    "\n",
    "\n"
   ]
  },
  {
   "cell_type": "code",
   "execution_count": null,
   "metadata": {},
   "outputs": [],
   "source": [
    "#Se trabajará con Machalí y Rancagua (ya que individualmente son muy pequeñas)\n"
   ]
  },
  {
   "cell_type": "markdown",
   "metadata": {},
   "source": [
    "## 3. Problemas.\n",
    "\n",
    "Para esta tarea, ud. definirá la zona de estudio. Elija y declare una ciudad de Chile de su preferencia. Si desea analizar la región metropolitana, puede escoger una (o más) comunas urbanas.\n",
    "\n",
    "### 3.1 Utilizando datos de Landsat 7, genere la geomedianas anuales de su zona de estudio desde el año 2000 a 2020.\n",
    "Para este proceso, considere\n",
    "- Descripción de la colección: https://developers.google.com/earth-engine/datasets/catalog/LANDSAT_LE07_C02_T1_L2#description\n",
    "- Remoción de nubes y sombras: https://github.com/gee-community/geemap/issues/1095#issuecomment-1151812523\n",
    "- Bandas a utilizar para el cálculo de la geomediana.\n",
    "  \n",
    "### 3.2 Genere un split map o timelapse con la imagen (geomediana) RGB de la ciudad estudiada, para el primer y último año analizados. Comente: ¿qué cambios puede apreciar en la zona urbana?\n",
    "\n",
    "### 3.3 Investigue sobre índices espectrales que permitan identificar y seleccionar áreas construidas o urbanizadas.\n",
    "- Escoja un índice que pueda ser calculado con las imágenes seleccionadas en el punto 3.1. Incluya sus fuentes y referencias.\n",
    "- Escriba un breve párrafo con la definición y justificación de dicho índice, y especifique claramente la fórmula de cálculo.\n",
    "\n",
    "**Nota:**  De aquí en adelante, nos referiremos a este índice como **IAU** (Índice de Área Urbana).\n",
    "\n",
    "### 3.4 Calcule el IAU para la geomediana de cada año, y genere un mapa o animación que permita visualizar la evolución de la extensión urbana como función del tiempo.\n",
    "- Incluya en su mapa la cartografía del censo 2017. En particular, puede utilizar los polígonos de las zonas urbanas.\n",
    "\n",
    "### 3.5 Calcule para cada año la superficie urbana (en km^2), y grafique como serie de tiempo.\n",
    "\n",
    "### 3.6 En base al índice calculado, identifique (si existen) aquellas zonas de crecimiento urbano exagerado o \"hot spots\", y también zonas de declive urbano o \"cold spots\".\n",
    "\n",
    "---\n",
    " A nivel global, existen varios proyectos orientados a mapear los asentamientos humanos en base a percepción remota, como por ejemplo *The Global Human Settlement Layer*. Éste es un proyecto de la Comisión Europea que crea datos geográficos globales sobre la evolución de la ocupación humana en la Tierra, en forma de mapas de densidad de población, mapas de urbanización y mapas de asentamientos. Este producto se encuentra disponible en GEE, y está descrito en el siguiente link:\n",
    " \n",
    " https://developers.google.com/earth-engine/datasets/catalog/JRC_GHSL_P2023A_GHS_BUILT_C#description\n",
    " \n",
    "\n",
    "### 3.7 Considere ahora solamente el año 2018. Para este año, compare el raster de área urbana generado a partir del IAU, con los datos de GHSL.\n",
    "- Considere la resolución espacial de cada dataset, y resamplee en caso de ser necesario.\n",
    "- Evalúe las diferencias en términos de área  y geometría de la extensión urbana (intersección / diferencia) \n",
    "\n",
    "\n",
    "### 3.8 Otro forma de monitorear el crecimiento urbano, es mediante capas de capas de clasificación de usos de suelo, o LULC (land use/land cover). Un ejemplo reciente de este tipo de datos es el dataset Dynamic World: https://dynamicworld.app/\n",
    "- Identifique uno (o más) puntos de la ciudad identificados previamente en el punto 3.6 como zonas de crecimiento o declive urbano.\n",
    "- Para estos mismos puntos, genere series de tiempo con la probabilidad de clases de uso de suelo en base al dataset Dynamic World.\n",
    "- Analice la serie de tiempo y comente: ¿son coherentes los resultados con su análisis previo en base al IAU?\n",
    "\n",
    "### 3.9 Finalmente, muchas veces constatamos que la urbanización ocurre en forma más acelerada que el desarrollo de infraestructura pública y servicios urbanos básicos como educación, salud, agua potable, transporte público, etc., lo cual conlleva problemas de calidad de vida y desigualdad socioeconómica, entre otros. ¿Es este el caso de su ciudad de estudio?\n",
    "- Seleccione **dos** tipos de infraestructura o servicios a analizar, como por ejemplo: escuelas, hospitales, transporte público, redes de agua potable, redes de electricidad, etc. (puede sugerir otras).\n",
    "- Para dichos servicios, busque y obtenga datos georreferenciados que le permitan analizar su evolución temporal desde el año 2000 (o algún año posterior) hasta el 2022. Especifique claramente los datos utilizados y su fuente.\n",
    "- Analice estos datos en conjunto con su análisis previo del IAU. ¿Puede identificar si hay coherencia entre las zonas de mayor crecimiento urbano, y el desarrollo de servicios urbanos? ¿Hay un desfase temporal entre la urbanización, y la expansión de la infraestructura urbana básica? Comente en base a sus resultados.\n",
    "\n",
    "*Algunas plataformas de utilidad:*\n",
    "- DEIS MINSAL: https://deis.minsal.cl/\n",
    "- MINEDUC : https://datosabiertos.mineduc.cl/\n",
    "- SECTRA: https://www.sectra.gob.cl/datos_informacion_espacial/datos_informacion_espacial.htm\n",
    "- SISS: https://www.siss.gob.cl/586/w3-propertyvalue-6323.html\n",
    "- Geoportal MINVU: https://ide.minvu.cl/\n",
    "\n",
    "\n",
    "\n"
   ]
  },
  {
   "cell_type": "code",
   "execution_count": null,
   "metadata": {},
   "outputs": [],
   "source": []
  }
 ],
 "metadata": {
  "kernelspec": {
   "display_name": "Python 3 (ipykernel)",
   "language": "python",
   "name": "python3"
  },
  "language_info": {
   "codemirror_mode": {
    "name": "ipython",
    "version": 3
   },
   "file_extension": ".py",
   "mimetype": "text/x-python",
   "name": "python",
   "nbconvert_exporter": "python",
   "pygments_lexer": "ipython3",
   "version": "3.11.5"
  }
 },
 "nbformat": 4,
 "nbformat_minor": 4
}
